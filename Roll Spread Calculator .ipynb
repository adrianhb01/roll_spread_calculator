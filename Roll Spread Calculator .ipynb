{
 "cells": [
  {
   "cell_type": "markdown",
   "id": "cef2c2e1-0ea0-47ee-afc3-01eea67af5d4",
   "metadata": {},
   "source": [
    "<img style=\"float: right; margin: 5px 5px 20px 20px;\" src=\"https://upload.wikimedia.org/wikipedia/commons/d/db/Logo_ITESO_normal.jpg\" width=\"100px\" height=\"75px\"/>\n",
    "\n",
    "# Roll Spread Calculator \n",
    "\n",
    "## Ingeniería Financiera - Microestructura y Sistemas de Trading \n",
    "\n",
    "### 27 de mayo de 2025.\n",
    "\n",
    "> **Por:** Gustavo Adrián Herrera Barragán\n",
    "\n",
    "––––––––––––––––––––––––––––––––––––––––––––––––––––––––––––––––––––––––––––––––––––––––––––––––––––––––––––––––––––––––––––––––––––––––\n"
   ]
  },
  {
   "cell_type": "code",
   "execution_count": 31,
   "id": "c990ace6-24ae-4d6d-8f62-4f11902c1850",
   "metadata": {},
   "outputs": [
    {
     "name": "stderr",
     "output_type": "stream",
     "text": [
      "[*********************100%***********************]  1 of 1 completed\n",
      "\n",
      "1 Failed download:\n",
      "['MSFT']: YFRateLimitError('Too Many Requests. Rate limited. Try after a while.')\n"
     ]
    },
    {
     "name": "stdout",
     "output_type": "stream",
     "text": [
      "Log returns calculados: 0 observaciones\n",
      "Covarianza R_t, R_t-1: nan\n",
      "Spread efectivo estimado: nan\n"
     ]
    },
    {
     "name": "stderr",
     "output_type": "stream",
     "text": [
      "/opt/anaconda3/lib/python3.12/site-packages/numpy/core/fromnumeric.py:3504: RuntimeWarning: Mean of empty slice.\n",
      "  return _methods._mean(a, axis=axis, dtype=dtype,\n",
      "/opt/anaconda3/lib/python3.12/site-packages/numpy/core/_methods.py:129: RuntimeWarning: invalid value encountered in scalar divide\n",
      "  ret = ret.dtype.type(ret / rcount)\n"
     ]
    }
   ],
   "source": [
    "import numpy as np\n",
    "import pandas as pd\n",
    "import yfinance as yf\n",
    "\n",
    "class RollSpreadCalculator:\n",
    "    def __init__(self, ticker: str) -> None:\n",
    "        self.ticker = ticker\n",
    "\n",
    "    def download_from_yfinance(self, price_type: str = \"Close\") -> pd.Series:\n",
    "        data = yf.download(self.ticker, period='2d', interval=\"1m\")\n",
    "        return data[price_type]\n",
    "\n",
    "    def returns_from_ticker(self) -> pd.Series:\n",
    "        prices = self.download_from_yfinance()\n",
    "        returns = np.log(prices / prices.shift(1)).dropna()\n",
    "        print(f\"Log returns calculados: {len(returns)} observaciones\")\n",
    "        return returns\n",
    "\n",
    "    def roll_spread(self) -> float:\n",
    "        returns = self.returns_from_ticker()\n",
    "        \n",
    "        # Calcular covarianza manualmente\n",
    "        rt = returns.values[1:]       # R_t\n",
    "        rt_1 = returns.values[:-1]    # R_{t-1}\n",
    "        \n",
    "        # Covarianza manual: E[(X-μx)(Y-μy)]\n",
    "        mean_rt = np.mean(rt)\n",
    "        mean_rt_1 = np.mean(rt_1)\n",
    "        cov = np.mean((rt - mean_rt) * (rt_1 - mean_rt_1))\n",
    "        \n",
    "        print(f\"Covarianza R_t, R_t-1: {cov:.8f}\")\n",
    "        \n",
    "        if cov < 0:\n",
    "            spread = 2 * np.sqrt(-cov)\n",
    "        else:\n",
    "            spread = np.nan\n",
    "        \n",
    "        print(f\"Spread efectivo estimado: {spread:.6f}\")\n",
    "        return spread\n",
    "\n",
    "if __name__ == '__main__':\n",
    "    ticker = 'MSFT'\n",
    "    msft = RollSpreadCalculator(ticker)\n",
    "    msft.roll_spread()"
   ]
  },
  {
   "cell_type": "code",
   "execution_count": null,
   "id": "93e56429-630d-427a-968c-2ed064681124",
   "metadata": {},
   "outputs": [],
   "source": []
  }
 ],
 "metadata": {
  "kernelspec": {
   "display_name": "Python 3 (ipykernel)",
   "language": "python",
   "name": "python3"
  },
  "language_info": {
   "codemirror_mode": {
    "name": "ipython",
    "version": 3
   },
   "file_extension": ".py",
   "mimetype": "text/x-python",
   "name": "python",
   "nbconvert_exporter": "python",
   "pygments_lexer": "ipython3",
   "version": "3.12.7"
  }
 },
 "nbformat": 4,
 "nbformat_minor": 5
}
